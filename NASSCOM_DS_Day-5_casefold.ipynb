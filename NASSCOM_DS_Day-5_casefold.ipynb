{
 "cells": [
  {
   "cell_type": "markdown",
   "metadata": {},
   "source": [
    "# Data Science And Analytics FutureSkill Training Program by Dr. Sunil Joshi"
   ]
  },
  {
   "cell_type": "markdown",
   "metadata": {},
   "source": [
    "# Day 5- casefold and regular expression   Date:- 19/06/2020"
   ]
  },
  {
   "cell_type": "code",
   "execution_count": 1,
   "metadata": {},
   "outputs": [
    {
     "name": "stdout",
     "output_type": "stream",
     "text": [
      " not palindrome\n"
     ]
    }
   ],
   "source": [
    "# change this value for a different output \n",
    "str = 'satidatascience'\n",
    "  \n",
    "# make it suitable for caseless comparison \n",
    "str = str.casefold() \n",
    "  \n",
    "# reverse the string \n",
    "rev_str = reversed(str) \n",
    "  \n",
    "# check if the string is equal to its reverse \n",
    "if str == rev_str: \n",
    "      print(\"palindrome\") \n",
    "else: \n",
    "      print(\" not palindrome\") "
   ]
  },
  {
   "cell_type": "code",
   "execution_count": 3,
   "metadata": {},
   "outputs": [
    {
     "name": "stdout",
     "output_type": "stream",
     "text": [
      "{'a': 4, 'e': 5, 'i': 2, 'o': 3, 'u': 2}\n"
     ]
    }
   ],
   "source": [
    "# Program to count the number of each vowel in a string\n",
    "# string of vowels \n",
    "v = 'aeiou'\n",
    "# change this value for a different result \n",
    "str = 'Hello, have you try satidatascience course?'\n",
    "# input from the user  # str = input(\"Enter a string: \") \n",
    "# caseless comparisons \n",
    "str = str.casefold() \n",
    "  \n",
    "# make a dictionary with each vowel a key and value 0 \n",
    "c = {}.fromkeys(v,0) \n",
    "# count the vowels \n",
    "for char in str: \n",
    " if char in c:   \n",
    "  c[char] += 1\n",
    "print(c) "
   ]
  },
  {
   "cell_type": "code",
   "execution_count": 4,
   "metadata": {},
   "outputs": [
    {
     "name": "stdout",
     "output_type": "stream",
     "text": [
      "The strings are equal.\n"
     ]
    }
   ],
   "source": [
    "#Comparison using casefold()\n",
    "firstString = \"sunil JoshI\"\n",
    "secondString = \"sunil joshi\"\n",
    "\n",
    "if firstString.casefold() == secondString.casefold():\n",
    "    print('The strings are equal.')\n",
    "else:\n",
    "    print('The strings are not equal.')"
   ]
  },
  {
   "cell_type": "code",
   "execution_count": 6,
   "metadata": {
    "scrolled": true
   },
   "outputs": [
    {
     "name": "stdout",
     "output_type": "stream",
     "text": [
      "\n",
      "The following command must be run outside of the IPython shell:\n",
      "\n",
      "    $ pip install spellchecker\n",
      "\n",
      "The Python package manager (pip) can only be used from outside of IPython.\n",
      "Please reissue the `pip` command in a separate terminal or command prompt.\n",
      "\n",
      "See the Python documentation for more information on how to install packages:\n",
      "\n",
      "    https://docs.python.org/3/installing/\n"
     ]
    }
   ],
   "source": []
  },
  {
   "cell_type": "code",
   "execution_count": 1,
   "metadata": {},
   "outputs": [
    {
     "name": "stdout",
     "output_type": "stream",
     "text": [
      "walk\n",
      "{'walk', 'weak', 'flak'}\n",
      "group\n",
      "{'grown', 'group', 'groan', 'groin', 'grout', 'ground'}\n"
     ]
    }
   ],
   "source": [
    "from spellchecker import SpellChecker\n",
    "\n",
    "spell = SpellChecker()\n",
    "\n",
    "# find those words that may be misspelled\n",
    "misspelled = spell.unknown(['let', 'us', 'wlak','on','the','groun'])\n",
    "\n",
    "for word in misspelled:\n",
    "    # Get the one `most likely` answer\n",
    "    print(spell.correction(word))\n",
    "\n",
    "    # Get a list of `likely` options\n",
    "    print(spell.candidates(word))\n"
   ]
  },
  {
   "cell_type": "markdown",
   "metadata": {},
   "source": [
    "# Using textblob library\n",
    "First you need to install the library textblob using pip in command prompt.\n",
    "pip install textblob\n",
    "\n",
    "\n"
   ]
  },
  {
   "cell_type": "code",
   "execution_count": 10,
   "metadata": {},
   "outputs": [
    {
     "name": "stdout",
     "output_type": "stream",
     "text": [
      "original text: cmputr\n",
      "corrected text: computer\n"
     ]
    }
   ],
   "source": [
    "from textblob import TextBlob \n",
    " \n",
    "a = \"cmputr\"           # incorrect spelling \n",
    "print(\"original text: \"+str(a)) \n",
    "  \n",
    "b = TextBlob(a) \n",
    "  \n",
    "# prints the corrected spelling \n",
    "print(\"corrected text: \"+str(b.correct())) \n"
   ]
  },
  {
   "cell_type": "markdown",
   "metadata": {},
   "source": [
    "# Python RegEx\n",
    "A RegEx, or Regular Expression, is a sequence of characters that forms a search pattern.\n",
    "RegEx can be used to check if a string contains the specified search pattern.\n"
   ]
  },
  {
   "cell_type": "code",
   "execution_count": 13,
   "metadata": {},
   "outputs": [],
   "source": [
    "import re\n",
    "\n",
    "txt = \"The rain in Vidisha\"\n",
    "x = re.search(\"^The.*Vidisha$\", txt)"
   ]
  },
  {
   "cell_type": "code",
   "execution_count": 14,
   "metadata": {},
   "outputs": [
    {
     "name": "stdout",
     "output_type": "stream",
     "text": [
      "<re.Match object; span=(0, 19), match='The rain in Vidisha'>\n"
     ]
    }
   ],
   "source": [
    "print(x)"
   ]
  },
  {
   "cell_type": "code",
   "execution_count": 18,
   "metadata": {},
   "outputs": [
    {
     "name": "stdout",
     "output_type": "stream",
     "text": [
      "['in', 'in']\n"
     ]
    }
   ],
   "source": [
    "import re\n",
    "txt = \"The rain in Indore\"\n",
    "x = re.findall('in', txt)\n",
    "print(x)\n"
   ]
  },
  {
   "cell_type": "code",
   "execution_count": 19,
   "metadata": {},
   "outputs": [
    {
     "name": "stdout",
     "output_type": "stream",
     "text": [
      "['in', 'in', 'in']\n"
     ]
    }
   ],
   "source": [
    "import re\n",
    "txt = \"The rain in indore\"\n",
    "x = re.findall('in', txt)\n",
    "print(x)\n"
   ]
  },
  {
   "cell_type": "code",
   "execution_count": 2,
   "metadata": {},
   "outputs": [
    {
     "name": "stdout",
     "output_type": "stream",
     "text": [
      "The first white-space character is located in position: 3\n"
     ]
    }
   ],
   "source": [
    "import re\n",
    "txt = \"The rain in Indore\"\n",
    "x = re.search(\"\\s\", txt)\n",
    "print(\"The first white-space character is located in position:\", x.start())"
   ]
  },
  {
   "cell_type": "markdown",
   "metadata": {},
   "source": [
    "If no matches are found, the value None is returned:"
   ]
  },
  {
   "cell_type": "code",
   "execution_count": 4,
   "metadata": {},
   "outputs": [
    {
     "name": "stdout",
     "output_type": "stream",
     "text": [
      "None\n"
     ]
    }
   ],
   "source": [
    "import re\n",
    "\n",
    "txt = \"The rain in Indore\"\n",
    "x = re.search(\"Bhopal\", txt)\n",
    "print(x)"
   ]
  },
  {
   "cell_type": "markdown",
   "metadata": {},
   "source": [
    "# The split() Function\n",
    "The split() function returns a list where the string has been split at each match:\n"
   ]
  },
  {
   "cell_type": "code",
   "execution_count": 5,
   "metadata": {},
   "outputs": [
    {
     "name": "stdout",
     "output_type": "stream",
     "text": [
      "['The', 'rain', 'in', 'Vidisha']\n"
     ]
    }
   ],
   "source": [
    "#Split at each white-space character:\n",
    "import re\n",
    "txt = \"The rain in Vidisha\"\n",
    "x = re.split(\"\\s\", txt)\n",
    "print(x)\n"
   ]
  },
  {
   "cell_type": "markdown",
   "metadata": {},
   "source": [
    "You can control the number of occurrences by specifying the maxsplit parameter:"
   ]
  },
  {
   "cell_type": "code",
   "execution_count": 8,
   "metadata": {},
   "outputs": [
    {
     "name": "stdout",
     "output_type": "stream",
     "text": [
      "['The', 'rain in Vidisha']\n"
     ]
    }
   ],
   "source": [
    "#Split the string only at the first occurrence:\n",
    "import re\n",
    "txt = \"The rain in Vidisha\"\n",
    "x = re.split(\"\\s\", txt, 1)\n",
    "print(x)\n"
   ]
  },
  {
   "cell_type": "code",
   "execution_count": 9,
   "metadata": {},
   "outputs": [
    {
     "name": "stdout",
     "output_type": "stream",
     "text": [
      "['The', 'rain', 'in Vidisha']\n"
     ]
    }
   ],
   "source": [
    "#Split the string only at the first occurrence:\n",
    "import re\n",
    "txt = \"The rain in Vidisha\"\n",
    "x = re.split(\"\\s\", txt, 2)\n",
    "print(x)"
   ]
  },
  {
   "cell_type": "markdown",
   "metadata": {},
   "source": [
    "# The sub() Function\n",
    "The sub() function replaces the matches with the text of your choice:\n"
   ]
  },
  {
   "cell_type": "code",
   "execution_count": 11,
   "metadata": {},
   "outputs": [
    {
     "name": "stdout",
     "output_type": "stream",
     "text": [
      "The0rain0in0Vidisha\n"
     ]
    }
   ],
   "source": [
    "#Replace every white-space character with the number 0:\n",
    "import re\n",
    "txt = \"The rain in Vidisha\"\n",
    "x = re.sub(\"\\s\", \"0\", txt)\n",
    "print(x)\n"
   ]
  },
  {
   "cell_type": "markdown",
   "metadata": {},
   "source": [
    "You can control the number of replacements by specifying the count parameter:"
   ]
  },
  {
   "cell_type": "code",
   "execution_count": 12,
   "metadata": {},
   "outputs": [
    {
     "name": "stdout",
     "output_type": "stream",
     "text": [
      "The9rain9in Vidisha\n"
     ]
    }
   ],
   "source": [
    "#Replace the first 2 occurrences:\n",
    "import re\n",
    "\n",
    "txt = \"The rain in Vidisha\"\n",
    "x = re.sub(\"\\s\", \"9\", txt, 2)\n",
    "print(x)"
   ]
  },
  {
   "cell_type": "markdown",
   "metadata": {},
   "source": [
    "# Match Object\n",
    "A Match Object is an object containing information about the search and the result.\n",
    "Note: If there is no match, the value None will be returned, instead of the Match Object.\n"
   ]
  },
  {
   "cell_type": "code",
   "execution_count": 13,
   "metadata": {},
   "outputs": [
    {
     "name": "stdout",
     "output_type": "stream",
     "text": [
      "<re.Match object; span=(5, 7), match='ai'>\n"
     ]
    }
   ],
   "source": [
    "# Do a search that will return a Match Object:\n",
    "import re\n",
    "\n",
    "txt = \"The rain in Vidisha\"\n",
    "x = re.search(\"ai\", txt)\n",
    "print(x) #this will print an object\n"
   ]
  },
  {
   "cell_type": "markdown",
   "metadata": {},
   "source": [
    "###### The Match object has properties and methods used to retrieve information about the search, and the result:\n",
    "    span() returns a tuple containing the start-, and end positions of the match.\n",
    "    string returns the string passed into the function\n",
    "    group() returns the part of the string where there was a match\n"
   ]
  },
  {
   "cell_type": "code",
   "execution_count": 15,
   "metadata": {},
   "outputs": [
    {
     "name": "stdout",
     "output_type": "stream",
     "text": [
      "(12, 19)\n"
     ]
    }
   ],
   "source": [
    "#Print the position (start- and end-position) of the first match occurrence.\n",
    "#The regular expression looks for any words that starts with an upper case \"V\":\n",
    "import re\n",
    "\n",
    "txt = \"The rain in Vidisha\"\n",
    "x = re.search(r\"\\bV\\w+\", txt)\n",
    "print(x.span())\n"
   ]
  },
  {
   "cell_type": "code",
   "execution_count": 16,
   "metadata": {},
   "outputs": [
    {
     "name": "stdout",
     "output_type": "stream",
     "text": [
      "The rain in Bhopal\n"
     ]
    }
   ],
   "source": [
    "#Print the string passed into the function:\n",
    "import re\n",
    "\n",
    "txt = \"The rain in Bhopal\"\n",
    "x = re.search(r\"\\bB\\w+\", txt)\n",
    "print(x.string)"
   ]
  },
  {
   "cell_type": "code",
   "execution_count": 18,
   "metadata": {},
   "outputs": [
    {
     "name": "stdout",
     "output_type": "stream",
     "text": [
      "Vidisha\n"
     ]
    }
   ],
   "source": [
    "#Print the part of the string where there was a match.\n",
    "#The regular expression looks for any words that starts with an upper case \"V\":\n",
    "import re\n",
    "\n",
    "txt = \"The rain in Vidisha\"\n",
    "x = re.search(r\"\\bV\\w+\", txt)\n",
    "print(x.group())\n",
    "\n"
   ]
  },
  {
   "cell_type": "markdown",
   "metadata": {},
   "source": [
    "Note: If there is no match, the value None will be returned, instead of the Match Object."
   ]
  },
  {
   "cell_type": "code",
   "execution_count": null,
   "metadata": {},
   "outputs": [],
   "source": []
  }
 ],
 "metadata": {
  "kernelspec": {
   "display_name": "Python 3",
   "language": "python",
   "name": "python3"
  },
  "language_info": {
   "codemirror_mode": {
    "name": "ipython",
    "version": 3
   },
   "file_extension": ".py",
   "mimetype": "text/x-python",
   "name": "python",
   "nbconvert_exporter": "python",
   "pygments_lexer": "ipython3",
   "version": "3.7.1"
  }
 },
 "nbformat": 4,
 "nbformat_minor": 2
}
