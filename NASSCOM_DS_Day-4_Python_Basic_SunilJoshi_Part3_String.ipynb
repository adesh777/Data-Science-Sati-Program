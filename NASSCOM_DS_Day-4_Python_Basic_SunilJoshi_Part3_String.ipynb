{
 "cells": [
  {
   "cell_type": "code",
   "execution_count": null,
   "metadata": {},
   "outputs": [],
   "source": []
  },
  {
   "cell_type": "markdown",
   "metadata": {},
   "source": [
    "# Day3 Date:18/06/2020"
   ]
  },
  {
   "cell_type": "markdown",
   "metadata": {},
   "source": [
    "# Data Science And Analytics FutureSkill Training Program by Dr. Sunil Joshi"
   ]
  },
  {
   "cell_type": "markdown",
   "metadata": {},
   "source": [
    "# String"
   ]
  },
  {
   "cell_type": "code",
   "execution_count": 2,
   "metadata": {},
   "outputs": [],
   "source": [
    "var1 = 'Hello World!'\n",
    "var2 = \"Python Programming\""
   ]
  },
  {
   "cell_type": "code",
   "execution_count": 3,
   "metadata": {},
   "outputs": [
    {
     "name": "stdout",
     "output_type": "stream",
     "text": [
      "Hello World!\n",
      "Python Programming\n"
     ]
    }
   ],
   "source": [
    "print(var1)\n",
    "print(var2)\n"
   ]
  },
  {
   "cell_type": "code",
   "execution_count": 4,
   "metadata": {},
   "outputs": [
    {
     "name": "stdout",
     "output_type": "stream",
     "text": [
      "Updated String :-  Hello Python\n"
     ]
    }
   ],
   "source": [
    "var1 = 'Hello World!'\n",
    "print (\"Updated String :- \", var1[:6] + 'Python')"
   ]
  },
  {
   "cell_type": "code",
   "execution_count": 7,
   "metadata": {},
   "outputs": [
    {
     "name": "stdout",
     "output_type": "stream",
     "text": [
      "My name is Sunil and age is 42 year!\n"
     ]
    }
   ],
   "source": [
    "print (\"My name is %s and age is %d year!\" % ('Sunil', 42))\n"
   ]
  },
  {
   "cell_type": "markdown",
   "metadata": {},
   "source": [
    "# String methods"
   ]
  },
  {
   "cell_type": "code",
   "execution_count": 9,
   "metadata": {},
   "outputs": [
    {
     "name": "stdout",
     "output_type": "stream",
     "text": [
      "str.capitalize() :  Welcome in data science and analytics class\n"
     ]
    }
   ],
   "source": [
    "str = \"welcome in data science and analytics class\"\n",
    "print (\"str.capitalize() : \", str.capitalize())"
   ]
  },
  {
   "cell_type": "code",
   "execution_count": 12,
   "metadata": {},
   "outputs": [
    {
     "name": "stdout",
     "output_type": "stream",
     "text": [
      "str.center(40, 'a') :  aaaaawelcome in data science  classaaaaa\n"
     ]
    }
   ],
   "source": [
    "str = \"welcome in data science  class\"\n",
    "print (\"str.center(40, 'a') : \", str.center(40, 'a'))"
   ]
  },
  {
   "cell_type": "code",
   "execution_count": 15,
   "metadata": {},
   "outputs": [
    {
     "name": "stdout",
     "output_type": "stream",
     "text": [
      "str.count('i') :  3\n",
      "str.count('data', 10, 40) :  2\n"
     ]
    }
   ],
   "source": [
    "str = \"welcome in data science  and data analytics  class\"\n",
    "sub='i'\n",
    "print (\"str.count('i') : \", str.count(sub))\n",
    "sub='data'\n",
    "print (\"str.count('data', 10, 40) : \", str.count(sub,10,40))"
   ]
  },
  {
   "cell_type": "code",
   "execution_count": 23,
   "metadata": {},
   "outputs": [
    {
     "name": "stdout",
     "output_type": "stream",
     "text": [
      "Encoded String:  b'dGhpcyBpcyBzdHJpbmcgZXhhbXBsZS4uLi53b3chISE='\n"
     ]
    }
   ],
   "source": [
    "import base64\n",
    "Str = \"this is string example....wow!!!\"\n",
    "Str=base64.b64encode(Str.encode('utf-8',errors='strict'))\n",
    "print (\"Encoded String: \" , Str)"
   ]
  },
  {
   "cell_type": "code",
   "execution_count": 24,
   "metadata": {},
   "outputs": [
    {
     "name": "stdout",
     "output_type": "stream",
     "text": [
      "True\n",
      "True\n",
      "False\n",
      "True\n"
     ]
    }
   ],
   "source": [
    "Str='this is string example....wow!!!'\n",
    "suffix='!!'\n",
    "print (Str.endswith(suffix))\n",
    "print (Str.endswith(suffix,20))\n",
    "suffix='exam'\n",
    "print (Str.endswith(suffix))\n",
    "print (Str.endswith(suffix, 0, 19))"
   ]
  },
  {
   "cell_type": "code",
   "execution_count": 25,
   "metadata": {},
   "outputs": [
    {
     "name": "stdout",
     "output_type": "stream",
     "text": [
      "Original string: this is\tstring example....wow!!!\n",
      "Defualt exapanded tab: this is string example....wow!!!\n",
      "Double exapanded tab: this is         string example....wow!!!\n"
     ]
    }
   ],
   "source": [
    "str = \"this is\\tstring example....wow!!!\"\n",
    "print (\"Original string: \" + str)\n",
    "print (\"Defualt exapanded tab: \" + str.expandtabs())\n",
    "print (\"Double exapanded tab: \" + str.expandtabs(16))"
   ]
  },
  {
   "cell_type": "code",
   "execution_count": 27,
   "metadata": {},
   "outputs": [
    {
     "name": "stdout",
     "output_type": "stream",
     "text": [
      "11\n",
      "11\n",
      "-1\n"
     ]
    }
   ],
   "source": [
    "str1 = \"Welcome in data science and analytics class\"\n",
    "str2 = \"data\";\n",
    "print (str1.find(str2))\n",
    "print (str1.find(str2, 10))\n",
    "print (str1.find(str2, 40))"
   ]
  },
  {
   "cell_type": "code",
   "execution_count": 28,
   "metadata": {},
   "outputs": [
    {
     "name": "stdout",
     "output_type": "stream",
     "text": [
      "15\n",
      "15\n"
     ]
    },
    {
     "ename": "ValueError",
     "evalue": "substring not found",
     "output_type": "error",
     "traceback": [
      "\u001b[1;31m---------------------------------------------------------------------------\u001b[0m",
      "\u001b[1;31mValueError\u001b[0m                                Traceback (most recent call last)",
      "\u001b[1;32m<ipython-input-28-95003a7fbf43>\u001b[0m in \u001b[0;36m<module>\u001b[1;34m\u001b[0m\n\u001b[0;32m      3\u001b[0m \u001b[0mprint\u001b[0m \u001b[1;33m(\u001b[0m\u001b[0mstr1\u001b[0m\u001b[1;33m.\u001b[0m\u001b[0mindex\u001b[0m\u001b[1;33m(\u001b[0m\u001b[0mstr2\u001b[0m\u001b[1;33m)\u001b[0m\u001b[1;33m)\u001b[0m\u001b[1;33m\u001b[0m\u001b[1;33m\u001b[0m\u001b[0m\n\u001b[0;32m      4\u001b[0m \u001b[0mprint\u001b[0m \u001b[1;33m(\u001b[0m\u001b[0mstr1\u001b[0m\u001b[1;33m.\u001b[0m\u001b[0mindex\u001b[0m\u001b[1;33m(\u001b[0m\u001b[0mstr2\u001b[0m\u001b[1;33m,\u001b[0m \u001b[1;36m10\u001b[0m\u001b[1;33m)\u001b[0m\u001b[1;33m)\u001b[0m\u001b[1;33m\u001b[0m\u001b[1;33m\u001b[0m\u001b[0m\n\u001b[1;32m----> 5\u001b[1;33m \u001b[0mprint\u001b[0m \u001b[1;33m(\u001b[0m\u001b[0mstr1\u001b[0m\u001b[1;33m.\u001b[0m\u001b[0mindex\u001b[0m\u001b[1;33m(\u001b[0m\u001b[0mstr2\u001b[0m\u001b[1;33m,\u001b[0m \u001b[1;36m40\u001b[0m\u001b[1;33m)\u001b[0m\u001b[1;33m)\u001b[0m\u001b[1;33m\u001b[0m\u001b[1;33m\u001b[0m\u001b[0m\n\u001b[0m",
      "\u001b[1;31mValueError\u001b[0m: substring not found"
     ]
    }
   ],
   "source": [
    "str1 = \"this is string example....wow!!!\"\n",
    "str2 = \"exam\";\n",
    "print (str1.index(str2))\n",
    "print (str1.index(str2, 10))\n",
    "print (str1.index(str2, 40))"
   ]
  },
  {
   "cell_type": "code",
   "execution_count": 29,
   "metadata": {},
   "outputs": [
    {
     "name": "stdout",
     "output_type": "stream",
     "text": [
      "True\n",
      "False\n"
     ]
    }
   ],
   "source": [
    "str = \"0108CS1901234\" # No space in this string\n",
    "print (str.isalnum())\n",
    "str = \"this is string example....wow!!!\"\n",
    "print (str.isalnum())"
   ]
  },
  {
   "cell_type": "code",
   "execution_count": 30,
   "metadata": {},
   "outputs": [
    {
     "name": "stdout",
     "output_type": "stream",
     "text": [
      "True\n",
      "False\n"
     ]
    }
   ],
   "source": [
    "str = \"this\"; # No space & digit in this string\n",
    "print (str.isalpha())\n",
    "str = \"this is string example....wow!!!\"\n",
    "print (str.isalpha())"
   ]
  },
  {
   "cell_type": "code",
   "execution_count": 31,
   "metadata": {},
   "outputs": [
    {
     "name": "stdout",
     "output_type": "stream",
     "text": [
      "True\n",
      "False\n"
     ]
    }
   ],
   "source": [
    "str = \"123456\"; # Only digit in this string\n",
    "print (str.isdigit())\n",
    "str = \"this is string example....wow!!!\"\n",
    "print (str.isdigit())"
   ]
  },
  {
   "cell_type": "code",
   "execution_count": 32,
   "metadata": {},
   "outputs": [
    {
     "name": "stdout",
     "output_type": "stream",
     "text": [
      "False\n",
      "True\n"
     ]
    }
   ],
   "source": [
    "str = \"THIS is string example....wow!!!\"\n",
    "print (str.islower())\n",
    "str = \"this is string example....wow!!!\"\n",
    "print (str.islower())"
   ]
  },
  {
   "cell_type": "code",
   "execution_count": 34,
   "metadata": {},
   "outputs": [
    {
     "name": "stdout",
     "output_type": "stream",
     "text": [
      "False\n",
      "True\n"
     ]
    }
   ],
   "source": [
    "str = \"this2016\"\n",
    "print (str.isnumeric())\n",
    "str = \"23443434\"\n",
    "print (str.isnumeric())\n"
   ]
  },
  {
   "cell_type": "code",
   "execution_count": 35,
   "metadata": {},
   "outputs": [
    {
     "name": "stdout",
     "output_type": "stream",
     "text": [
      "True\n",
      "False\n"
     ]
    }
   ],
   "source": [
    "str = \" \"\n",
    "print (str.isspace())\n",
    "str = \"This is string example....wow!!!\"\n",
    "print (str.isspace())"
   ]
  },
  {
   "cell_type": "code",
   "execution_count": 36,
   "metadata": {},
   "outputs": [
    {
     "name": "stdout",
     "output_type": "stream",
     "text": [
      "True\n",
      "False\n"
     ]
    }
   ],
   "source": [
    "str = \"This Is String Example...Wow!!!\"\n",
    "print (str.istitle())\n",
    "str = \"This is string example....wow!!!\"\n",
    "print (str.istitle())"
   ]
  },
  {
   "cell_type": "code",
   "execution_count": 37,
   "metadata": {},
   "outputs": [
    {
     "name": "stdout",
     "output_type": "stream",
     "text": [
      "True\n",
      "False\n"
     ]
    }
   ],
   "source": [
    "str = \"THIS IS STRING EXAMPLE....WOW!!!\"\n",
    "print (str.isupper())\n",
    "str = \"THIS is string example....wow!!!\"\n",
    "print (str.isupper())"
   ]
  },
  {
   "cell_type": "code",
   "execution_count": 38,
   "metadata": {},
   "outputs": [
    {
     "name": "stdout",
     "output_type": "stream",
     "text": [
      "a-b-c\n"
     ]
    }
   ],
   "source": [
    "s = \"-\"\n",
    "seq = (\"a\", \"b\", \"c\") # This is sequence of strings.\n",
    "print (s.join( seq ))"
   ]
  },
  {
   "cell_type": "code",
   "execution_count": 39,
   "metadata": {},
   "outputs": [
    {
     "name": "stdout",
     "output_type": "stream",
     "text": [
      "Length of the string:  32\n"
     ]
    }
   ],
   "source": [
    "str = \"this is string example....wow!!!\"\n",
    "print (\"Length of the string: \", len(str))"
   ]
  },
  {
   "cell_type": "code",
   "execution_count": 41,
   "metadata": {},
   "outputs": [
    {
     "name": "stdout",
     "output_type": "stream",
     "text": [
      "this is string example....wow!!!******************\n"
     ]
    }
   ],
   "source": [
    "str = \"this is string example....wow!!!\"\n",
    "print (str.ljust(50, '*'))"
   ]
  },
  {
   "cell_type": "code",
   "execution_count": 42,
   "metadata": {},
   "outputs": [
    {
     "name": "stdout",
     "output_type": "stream",
     "text": [
      "this is string example....wow!!!\n"
     ]
    }
   ],
   "source": [
    "str = \"THIS IS STRING EXAMPLE....WOW!!!\"\n",
    "print (str.lower())"
   ]
  },
  {
   "cell_type": "code",
   "execution_count": 43,
   "metadata": {},
   "outputs": [
    {
     "name": "stdout",
     "output_type": "stream",
     "text": [
      "this is string example....wow!!!\n",
      "this is string example....wow!!!*****\n"
     ]
    }
   ],
   "source": [
    "str = \" this is string example....wow!!!\"\n",
    "print (str.lstrip())\n",
    "str = \"*****this is string example....wow!!!*****\"\n",
    "print (str.lstrip('*'))"
   ]
  },
  {
   "cell_type": "code",
   "execution_count": 44,
   "metadata": {},
   "outputs": [
    {
     "name": "stdout",
     "output_type": "stream",
     "text": [
      "th3s 3s str3ng 2x1mpl2....w4w!!!\n"
     ]
    }
   ],
   "source": [
    "intab = \"aeiou\"\n",
    "outtab = \"12345\"\n",
    "trantab = str.maketrans(intab, outtab)\n",
    "str = \"this is string example....wow!!!\"\n",
    "print (str.translate(trantab))"
   ]
  },
  {
   "cell_type": "code",
   "execution_count": 45,
   "metadata": {},
   "outputs": [
    {
     "name": "stdout",
     "output_type": "stream",
     "text": [
      "Max character: y\n",
      "Max character: x\n"
     ]
    }
   ],
   "source": [
    "str = \"this is a string example....really!!!\"\n",
    "print (\"Max character: \" + max(str))\n",
    "str = \"this is a string example....wow!!!\"\n",
    "print (\"Max character: \" + max(str))"
   ]
  },
  {
   "cell_type": "code",
   "execution_count": 46,
   "metadata": {},
   "outputs": [
    {
     "name": "stdout",
     "output_type": "stream",
     "text": [
      "Min character: .\n",
      "Min character: A\n"
     ]
    }
   ],
   "source": [
    "str = \"https://sites.google.com/satiengg.org/suniljoshisir\"\n",
    "print (\"Min character: \" + min(str))\n",
    "str = \"TUTORIALSPOINT\"\n",
    "print (\"Min character: \" + min(str))"
   ]
  },
  {
   "cell_type": "code",
   "execution_count": 50,
   "metadata": {},
   "outputs": [
    {
     "name": "stdout",
     "output_type": "stream",
     "text": [
      "this was string example....wow!!! this was really string\n"
     ]
    }
   ],
   "source": [
    "str = \"this is string example....wow!!! this is really string\"\n",
    "print (str.replace(\" is\", \" was\"))"
   ]
  },
  {
   "cell_type": "code",
   "execution_count": 51,
   "metadata": {},
   "outputs": [
    {
     "name": "stdout",
     "output_type": "stream",
     "text": [
      "5\n",
      "5\n",
      "-1\n",
      "2\n",
      "2\n",
      "-1\n"
     ]
    }
   ],
   "source": [
    "str1 = \"this is really a string example....wow!!!\"\n",
    "str2 = \"is\"\n",
    "print (str1.rfind(str2))\n",
    "print (str1.rfind(str2, 0, 10))\n",
    "print (str1.rfind(str2, 10, 0))\n",
    "print (str1.find(str2))\n",
    "print (str1.find(str2, 0, 10))\n",
    "print (str1.find(str2, 10, 0))"
   ]
  },
  {
   "cell_type": "code",
   "execution_count": 52,
   "metadata": {},
   "outputs": [
    {
     "name": "stdout",
     "output_type": "stream",
     "text": [
      "5\n"
     ]
    },
    {
     "ename": "ValueError",
     "evalue": "substring not found",
     "output_type": "error",
     "traceback": [
      "\u001b[1;31m---------------------------------------------------------------------------\u001b[0m",
      "\u001b[1;31mValueError\u001b[0m                                Traceback (most recent call last)",
      "\u001b[1;32m<ipython-input-52-781b6f02263a>\u001b[0m in \u001b[0;36m<module>\u001b[1;34m\u001b[0m\n\u001b[0;32m      2\u001b[0m \u001b[0mstr2\u001b[0m \u001b[1;33m=\u001b[0m \u001b[1;34m\"is\"\u001b[0m\u001b[1;33m\u001b[0m\u001b[1;33m\u001b[0m\u001b[0m\n\u001b[0;32m      3\u001b[0m \u001b[0mprint\u001b[0m \u001b[1;33m(\u001b[0m\u001b[0mstr1\u001b[0m\u001b[1;33m.\u001b[0m\u001b[0mrindex\u001b[0m\u001b[1;33m(\u001b[0m\u001b[0mstr2\u001b[0m\u001b[1;33m)\u001b[0m\u001b[1;33m)\u001b[0m\u001b[1;33m\u001b[0m\u001b[1;33m\u001b[0m\u001b[0m\n\u001b[1;32m----> 4\u001b[1;33m \u001b[0mprint\u001b[0m \u001b[1;33m(\u001b[0m\u001b[0mstr1\u001b[0m\u001b[1;33m.\u001b[0m\u001b[0mrindex\u001b[0m\u001b[1;33m(\u001b[0m\u001b[0mstr2\u001b[0m\u001b[1;33m,\u001b[0m\u001b[1;36m10\u001b[0m\u001b[1;33m)\u001b[0m\u001b[1;33m)\u001b[0m\u001b[1;33m\u001b[0m\u001b[1;33m\u001b[0m\u001b[0m\n\u001b[0m",
      "\u001b[1;31mValueError\u001b[0m: substring not found"
     ]
    }
   ],
   "source": [
    "str1 = \"this is really a string example....wow!!!\"\n",
    "str2 = \"is\"\n",
    "print (str1.rindex(str2))\n",
    "print (str1.rindex(str2,10))"
   ]
  },
  {
   "cell_type": "code",
   "execution_count": 53,
   "metadata": {},
   "outputs": [
    {
     "name": "stdout",
     "output_type": "stream",
     "text": [
      "******************this is string example....wow!!!\n"
     ]
    }
   ],
   "source": [
    "str = \"this is string example....wow!!!\"\n",
    "print (str.rjust(50, '*'))"
   ]
  },
  {
   "cell_type": "code",
   "execution_count": 54,
   "metadata": {},
   "outputs": [
    {
     "name": "stdout",
     "output_type": "stream",
     "text": [
      " this is string example....wow!!!\n",
      "*****this is string example....wow!!!\n"
     ]
    }
   ],
   "source": [
    "str = \" this is string example....wow!!! \"\n",
    "print (str.rstrip())\n",
    "str = \"*****this is string example....wow!!!*****\"\n",
    "print (str.rstrip('*'))"
   ]
  },
  {
   "cell_type": "code",
   "execution_count": 55,
   "metadata": {},
   "outputs": [
    {
     "name": "stdout",
     "output_type": "stream",
     "text": [
      "['this', 'is', 'string', 'example....wow!!!']\n",
      "['th', 's is string example....wow!!!']\n",
      "['this is string example....', 'o', '!!!']\n"
     ]
    }
   ],
   "source": [
    "str = \"this is string example....wow!!!\"\n",
    "print (str.split( ))\n",
    "print (str.split('i',1))\n",
    "print (str.split('w'))"
   ]
  },
  {
   "cell_type": "code",
   "execution_count": 56,
   "metadata": {},
   "outputs": [
    {
     "name": "stdout",
     "output_type": "stream",
     "text": [
      "['this is ', 'string example....', 'wow!!!']\n"
     ]
    }
   ],
   "source": [
    "str = \"this is \\nstring example....\\nwow!!!\"\n",
    "print (str.splitlines( ))"
   ]
  },
  {
   "cell_type": "code",
   "execution_count": 57,
   "metadata": {},
   "outputs": [
    {
     "name": "stdout",
     "output_type": "stream",
     "text": [
      "True\n",
      "True\n",
      "False\n"
     ]
    }
   ],
   "source": [
    "str = \"this is string example....wow!!!\"\n",
    "print (str.startswith( 'this' ))\n",
    "print (str.startswith( 'string', 8 ))\n",
    "print (str.startswith( 'this', 2, 4 ))"
   ]
  },
  {
   "cell_type": "code",
   "execution_count": 58,
   "metadata": {},
   "outputs": [
    {
     "name": "stdout",
     "output_type": "stream",
     "text": [
      "this is string example....wow!!!\n"
     ]
    }
   ],
   "source": [
    "str = \"*****this is string example....wow!!!*****\"\n",
    "print (str.strip( '*' ))"
   ]
  },
  {
   "cell_type": "code",
   "execution_count": 59,
   "metadata": {},
   "outputs": [
    {
     "name": "stdout",
     "output_type": "stream",
     "text": [
      "THIS IS STRING EXAMPLE....WOW!!!\n",
      "tHIS iS sTRING eXAMPLE....wow!!!\n"
     ]
    }
   ],
   "source": [
    "str = \"this is string example....wow!!!\"\n",
    "print (str.swapcase())\n",
    "str = \"This Is String Example....WOW!!!\"\n",
    "print (str.swapcase())"
   ]
  },
  {
   "cell_type": "code",
   "execution_count": 60,
   "metadata": {},
   "outputs": [
    {
     "name": "stdout",
     "output_type": "stream",
     "text": [
      "This Is String Example....Wow!!!\n"
     ]
    }
   ],
   "source": [
    "str = \"this is string example....wow!!!\"\n",
    "print (str.title())"
   ]
  },
  {
   "cell_type": "code",
   "execution_count": 62,
   "metadata": {},
   "outputs": [
    {
     "name": "stdout",
     "output_type": "stream",
     "text": [
      "str.upper :  THIS IS STRING EXAMPLE....WOW!!!\n"
     ]
    }
   ],
   "source": [
    "str = \"this is string example....wow!!!\"\n",
    "print (\"str.upper : \",str.upper())"
   ]
  },
  {
   "cell_type": "code",
   "execution_count": 63,
   "metadata": {},
   "outputs": [
    {
     "name": "stdout",
     "output_type": "stream",
     "text": [
      "str.zfill :  00000000this is string example....wow!!!\n",
      "str.zfill :  000000000000000000this is string example....wow!!!\n"
     ]
    }
   ],
   "source": [
    "str = \"this is string example....wow!!!\"\n",
    "print (\"str.zfill : \",str.zfill(40))\n",
    "print (\"str.zfill : \",str.zfill(50))"
   ]
  },
  {
   "cell_type": "code",
   "execution_count": 64,
   "metadata": {},
   "outputs": [
    {
     "name": "stdout",
     "output_type": "stream",
     "text": [
      "False\n",
      "True\n"
     ]
    }
   ],
   "source": [
    "str = \"this2016\"\n",
    "print (str.isdecimal())\n",
    "str = \"23443434\"\n",
    "print (str.isdecimal())"
   ]
  },
  {
   "cell_type": "code",
   "execution_count": null,
   "metadata": {},
   "outputs": [],
   "source": []
  }
 ],
 "metadata": {
  "kernelspec": {
   "display_name": "Python 3",
   "language": "python",
   "name": "python3"
  },
  "language_info": {
   "codemirror_mode": {
    "name": "ipython",
    "version": 3
   },
   "file_extension": ".py",
   "mimetype": "text/x-python",
   "name": "python",
   "nbconvert_exporter": "python",
   "pygments_lexer": "ipython3",
   "version": "3.7.1"
  }
 },
 "nbformat": 4,
 "nbformat_minor": 2
}
