{
  "nbformat": 4,
  "nbformat_minor": 0,
  "metadata": {
    "kernelspec": {
      "display_name": "Python 3",
      "language": "python",
      "name": "python3"
    },
    "language_info": {
      "codemirror_mode": {
        "name": "ipython",
        "version": 3
      },
      "file_extension": ".py",
      "mimetype": "text/x-python",
      "name": "python",
      "nbconvert_exporter": "python",
      "pygments_lexer": "ipython3",
      "version": "3.7.1"
    },
    "colab": {
      "name": "NASSCOM_DS_Day-5_casefold.ipynb",
      "provenance": []
    }
  },
  "cells": [
    {
      "cell_type": "markdown",
      "metadata": {
        "id": "ByuTt2bzyUuL",
        "colab_type": "text"
      },
      "source": [
        "# Data Science And Analytics FutureSkill Training Program by Dr. Sunil Joshi"
      ]
    },
    {
      "cell_type": "markdown",
      "metadata": {
        "id": "EPTpuUfEyUuN",
        "colab_type": "text"
      },
      "source": [
        "# Day 5- casefold and regular expression   Date:- 19/06/2020"
      ]
    },
    {
      "cell_type": "code",
      "metadata": {
        "id": "AZ0gd7pYyUuP",
        "colab_type": "code",
        "colab": {},
        "outputId": "b060028c-97b4-43cf-c944-a9c0cc9b70db"
      },
      "source": [
        "# change this value for a different output \n",
        "str = 'satidatascience'\n",
        "  \n",
        "# make it suitable for caseless comparison \n",
        "str = str.casefold() \n",
        "  \n",
        "# reverse the string \n",
        "rev_str = reversed(str) \n",
        "  \n",
        "# check if the string is equal to its reverse \n",
        "if str == rev_str: \n",
        "      print(\"palindrome\") \n",
        "else: \n",
        "      print(\" not palindrome\") "
      ],
      "execution_count": null,
      "outputs": [
        {
          "output_type": "stream",
          "text": [
            " not palindrome\n"
          ],
          "name": "stdout"
        }
      ]
    },
    {
      "cell_type": "code",
      "metadata": {
        "id": "ZCkQa3_FyUuv",
        "colab_type": "code",
        "colab": {},
        "outputId": "afd79b95-64fc-4899-a74a-917746f71633"
      },
      "source": [
        "# Program to count the number of each vowel in a string\n",
        "# string of vowels \n",
        "v = 'aeiou'\n",
        "# change this value for a different result \n",
        "str = 'Hello, have you try satidatascience course?'\n",
        "# input from the user  # str = input(\"Enter a string: \") \n",
        "# caseless comparisons \n",
        "str = str.casefold() \n",
        "  \n",
        "# make a dictionary with each vowel a key and value 0 \n",
        "c = {}.fromkeys(v,0) \n",
        "# count the vowels \n",
        "for char in str: \n",
        " if char in c:   \n",
        "  c[char] += 1\n",
        "print(c) "
      ],
      "execution_count": null,
      "outputs": [
        {
          "output_type": "stream",
          "text": [
            "{'a': 4, 'e': 5, 'i': 2, 'o': 3, 'u': 2}\n"
          ],
          "name": "stdout"
        }
      ]
    },
    {
      "cell_type": "code",
      "metadata": {
        "id": "cILGZ5FSyUu0",
        "colab_type": "code",
        "colab": {},
        "outputId": "75c64284-7a8c-4b34-8614-f081ddbb8341"
      },
      "source": [
        "#Comparison using casefold()\n",
        "firstString = \"sunil JoshI\"\n",
        "secondString = \"sunil joshi\"\n",
        "\n",
        "if firstString.casefold() == secondString.casefold():\n",
        "    print('The strings are equal.')\n",
        "else:\n",
        "    print('The strings are not equal.')"
      ],
      "execution_count": null,
      "outputs": [
        {
          "output_type": "stream",
          "text": [
            "The strings are equal.\n"
          ],
          "name": "stdout"
        }
      ]
    },
    {
      "cell_type": "code",
      "metadata": {
        "scrolled": true,
        "id": "cd0pkFcuyUu-",
        "colab_type": "code",
        "colab": {},
        "outputId": "4567ca00-ccf5-4ed9-b75b-6880f4803904"
      },
      "source": [
        ""
      ],
      "execution_count": null,
      "outputs": [
        {
          "output_type": "stream",
          "text": [
            "\n",
            "The following command must be run outside of the IPython shell:\n",
            "\n",
            "    $ pip install spellchecker\n",
            "\n",
            "The Python package manager (pip) can only be used from outside of IPython.\n",
            "Please reissue the `pip` command in a separate terminal or command prompt.\n",
            "\n",
            "See the Python documentation for more information on how to install packages:\n",
            "\n",
            "    https://docs.python.org/3/installing/\n"
          ],
          "name": "stdout"
        }
      ]
    },
    {
      "cell_type": "code",
      "metadata": {
        "id": "ys59EjVQyUvJ",
        "colab_type": "code",
        "colab": {},
        "outputId": "b1044d55-2b43-4b21-c328-76854baf9da9"
      },
      "source": [
        "from spellchecker import SpellChecker\n",
        "\n",
        "spell = SpellChecker()\n",
        "\n",
        "# find those words that may be misspelled\n",
        "misspelled = spell.unknown(['let', 'us', 'wlak','on','the','groun'])\n",
        "\n",
        "for word in misspelled:\n",
        "    # Get the one `most likely` answer\n",
        "    print(spell.correction(word))\n",
        "\n",
        "    # Get a list of `likely` options\n",
        "    print(spell.candidates(word))\n"
      ],
      "execution_count": null,
      "outputs": [
        {
          "output_type": "stream",
          "text": [
            "walk\n",
            "{'walk', 'weak', 'flak'}\n",
            "group\n",
            "{'grown', 'group', 'groan', 'groin', 'grout', 'ground'}\n"
          ],
          "name": "stdout"
        }
      ]
    },
    {
      "cell_type": "markdown",
      "metadata": {
        "id": "DMR8bXlryUvP",
        "colab_type": "text"
      },
      "source": [
        "# Using textblob library\n",
        "First you need to install the library textblob using pip in command prompt.\n",
        "pip install textblob\n",
        "\n",
        "\n"
      ]
    },
    {
      "cell_type": "code",
      "metadata": {
        "id": "c28tV3oKyUvQ",
        "colab_type": "code",
        "colab": {},
        "outputId": "567b3bf1-d9cb-45f2-b5f8-bc527f826472"
      },
      "source": [
        "from textblob import TextBlob \n",
        " \n",
        "a = \"cmputr\"           # incorrect spelling \n",
        "print(\"original text: \"+str(a)) \n",
        "  \n",
        "b = TextBlob(a) \n",
        "  \n",
        "# prints the corrected spelling \n",
        "print(\"corrected text: \"+str(b.correct())) \n"
      ],
      "execution_count": null,
      "outputs": [
        {
          "output_type": "stream",
          "text": [
            "original text: cmputr\n",
            "corrected text: computer\n"
          ],
          "name": "stdout"
        }
      ]
    },
    {
      "cell_type": "markdown",
      "metadata": {
        "id": "sxw9GCNLyUvX",
        "colab_type": "text"
      },
      "source": [
        "# Python RegEx\n",
        "A RegEx, or Regular Expression, is a sequence of characters that forms a search pattern.\n",
        "RegEx can be used to check if a string contains the specified search pattern.\n"
      ]
    },
    {
      "cell_type": "code",
      "metadata": {
        "id": "3-sAN7c4yUva",
        "colab_type": "code",
        "colab": {}
      },
      "source": [
        "import re\n",
        "\n",
        "txt = \"The rain in Vidisha\"\n",
        "x = re.search(\"^The.*Vidisha$\", txt)"
      ],
      "execution_count": null,
      "outputs": []
    },
    {
      "cell_type": "code",
      "metadata": {
        "id": "r_xt8Ut6yUvi",
        "colab_type": "code",
        "colab": {},
        "outputId": "2941b5f0-c949-4125-ce8a-2850fa81d9d6"
      },
      "source": [
        "print(x)"
      ],
      "execution_count": null,
      "outputs": [
        {
          "output_type": "stream",
          "text": [
            "<re.Match object; span=(0, 19), match='The rain in Vidisha'>\n"
          ],
          "name": "stdout"
        }
      ]
    },
    {
      "cell_type": "code",
      "metadata": {
        "id": "tUW1BNvIyUvn",
        "colab_type": "code",
        "colab": {},
        "outputId": "5b3cf28d-3435-421f-a2c5-cdaceca07496"
      },
      "source": [
        "import re\n",
        "txt = \"The rain in Indore\"\n",
        "x = re.findall('in', txt)\n",
        "print(x)\n"
      ],
      "execution_count": null,
      "outputs": [
        {
          "output_type": "stream",
          "text": [
            "['in', 'in']\n"
          ],
          "name": "stdout"
        }
      ]
    },
    {
      "cell_type": "code",
      "metadata": {
        "id": "fNeuHsTGyUvs",
        "colab_type": "code",
        "colab": {},
        "outputId": "4f77c880-544b-4f9d-8573-84b178bf2d5d"
      },
      "source": [
        "import re\n",
        "txt = \"The rain in indore\"\n",
        "x = re.findall('in', txt)\n",
        "print(x)\n"
      ],
      "execution_count": null,
      "outputs": [
        {
          "output_type": "stream",
          "text": [
            "['in', 'in', 'in']\n"
          ],
          "name": "stdout"
        }
      ]
    },
    {
      "cell_type": "code",
      "metadata": {
        "id": "Nyeh3R7eyUvz",
        "colab_type": "code",
        "colab": {},
        "outputId": "3bdfd0f8-6895-4ff2-9ac3-a94276cee397"
      },
      "source": [
        "import re\n",
        "txt = \"The rain in Indore\"\n",
        "x = re.search(\"\\s\", txt)\n",
        "print(\"The first white-space character is located in position:\", x.start())"
      ],
      "execution_count": null,
      "outputs": [
        {
          "output_type": "stream",
          "text": [
            "The first white-space character is located in position: 3\n"
          ],
          "name": "stdout"
        }
      ]
    },
    {
      "cell_type": "markdown",
      "metadata": {
        "id": "UvCPBBFwyUv_",
        "colab_type": "text"
      },
      "source": [
        "If no matches are found, the value None is returned:"
      ]
    },
    {
      "cell_type": "code",
      "metadata": {
        "id": "2IM4C6DeyUwA",
        "colab_type": "code",
        "colab": {},
        "outputId": "51c85636-7a1d-4578-aabb-572255e662e4"
      },
      "source": [
        "import re\n",
        "\n",
        "txt = \"The rain in Indore\"\n",
        "x = re.search(\"Bhopal\", txt)\n",
        "print(x)"
      ],
      "execution_count": null,
      "outputs": [
        {
          "output_type": "stream",
          "text": [
            "None\n"
          ],
          "name": "stdout"
        }
      ]
    },
    {
      "cell_type": "markdown",
      "metadata": {
        "id": "wF4_PfncyUwF",
        "colab_type": "text"
      },
      "source": [
        "# The split() Function\n",
        "The split() function returns a list where the string has been split at each match:\n"
      ]
    },
    {
      "cell_type": "code",
      "metadata": {
        "id": "qSWslYyDyUwG",
        "colab_type": "code",
        "colab": {},
        "outputId": "b090bbf6-9f29-430b-8d16-3103883b92ba"
      },
      "source": [
        "#Split at each white-space character:\n",
        "import re\n",
        "txt = \"The rain in Vidisha\"\n",
        "x = re.split(\"\\s\", txt)\n",
        "print(x)\n"
      ],
      "execution_count": null,
      "outputs": [
        {
          "output_type": "stream",
          "text": [
            "['The', 'rain', 'in', 'Vidisha']\n"
          ],
          "name": "stdout"
        }
      ]
    },
    {
      "cell_type": "markdown",
      "metadata": {
        "id": "zYjhCmr4yUwM",
        "colab_type": "text"
      },
      "source": [
        "You can control the number of occurrences by specifying the maxsplit parameter:"
      ]
    },
    {
      "cell_type": "code",
      "metadata": {
        "id": "IvNlObpfyUwS",
        "colab_type": "code",
        "colab": {},
        "outputId": "6f255d82-98eb-4be7-c2e9-a111728367d3"
      },
      "source": [
        "#Split the string only at the first occurrence:\n",
        "import re\n",
        "txt = \"The rain in Vidisha\"\n",
        "x = re.split(\"\\s\", txt, 1)\n",
        "print(x)\n"
      ],
      "execution_count": null,
      "outputs": [
        {
          "output_type": "stream",
          "text": [
            "['The', 'rain in Vidisha']\n"
          ],
          "name": "stdout"
        }
      ]
    },
    {
      "cell_type": "code",
      "metadata": {
        "id": "SMk-DzfIyUyy",
        "colab_type": "code",
        "colab": {},
        "outputId": "549d8e7c-7df1-4c7b-abd7-c8913c144cd8"
      },
      "source": [
        "#Split the string only at the first occurrence:\n",
        "import re\n",
        "txt = \"The rain in Vidisha\"\n",
        "x = re.split(\"\\s\", txt, 2)\n",
        "print(x)"
      ],
      "execution_count": null,
      "outputs": [
        {
          "output_type": "stream",
          "text": [
            "['The', 'rain', 'in Vidisha']\n"
          ],
          "name": "stdout"
        }
      ]
    },
    {
      "cell_type": "markdown",
      "metadata": {
        "id": "jmOIGpg0yUzD",
        "colab_type": "text"
      },
      "source": [
        "# The sub() Function\n",
        "The sub() function replaces the matches with the text of your choice:\n"
      ]
    },
    {
      "cell_type": "code",
      "metadata": {
        "id": "-XlDedfLyUzK",
        "colab_type": "code",
        "colab": {},
        "outputId": "243efe75-c9d8-4e03-a9e1-51227c7b73d7"
      },
      "source": [
        "#Replace every white-space character with the number 0:\n",
        "import re\n",
        "txt = \"The rain in Vidisha\"\n",
        "x = re.sub(\"\\s\", \"0\", txt)\n",
        "print(x)\n"
      ],
      "execution_count": null,
      "outputs": [
        {
          "output_type": "stream",
          "text": [
            "The0rain0in0Vidisha\n"
          ],
          "name": "stdout"
        }
      ]
    },
    {
      "cell_type": "markdown",
      "metadata": {
        "id": "QvH_ES2WyUzh",
        "colab_type": "text"
      },
      "source": [
        "You can control the number of replacements by specifying the count parameter:"
      ]
    },
    {
      "cell_type": "code",
      "metadata": {
        "id": "6Cs1VuoSyUzi",
        "colab_type": "code",
        "colab": {},
        "outputId": "b4da9b08-d0d1-4a81-9734-bae2eae32746"
      },
      "source": [
        "#Replace the first 2 occurrences:\n",
        "import re\n",
        "\n",
        "txt = \"The rain in Vidisha\"\n",
        "x = re.sub(\"\\s\", \"9\", txt, 2)\n",
        "print(x)"
      ],
      "execution_count": null,
      "outputs": [
        {
          "output_type": "stream",
          "text": [
            "The9rain9in Vidisha\n"
          ],
          "name": "stdout"
        }
      ]
    },
    {
      "cell_type": "markdown",
      "metadata": {
        "id": "17kXxdseyUzw",
        "colab_type": "text"
      },
      "source": [
        "# Match Object\n",
        "A Match Object is an object containing information about the search and the result.\n",
        "Note: If there is no match, the value None will be returned, instead of the Match Object.\n"
      ]
    },
    {
      "cell_type": "code",
      "metadata": {
        "id": "E-iclxszyUzx",
        "colab_type": "code",
        "colab": {},
        "outputId": "4d114203-9fe0-474e-f7ab-82a8314f0c17"
      },
      "source": [
        "# Do a search that will return a Match Object:\n",
        "import re\n",
        "\n",
        "txt = \"The rain in Vidisha\"\n",
        "x = re.search(\"ai\", txt)\n",
        "print(x) #this will print an object\n"
      ],
      "execution_count": null,
      "outputs": [
        {
          "output_type": "stream",
          "text": [
            "<re.Match object; span=(5, 7), match='ai'>\n"
          ],
          "name": "stdout"
        }
      ]
    },
    {
      "cell_type": "markdown",
      "metadata": {
        "id": "QB-ZqzSLyUz2",
        "colab_type": "text"
      },
      "source": [
        "###### The Match object has properties and methods used to retrieve information about the search, and the result:\n",
        "    span() returns a tuple containing the start-, and end positions of the match.\n",
        "    string returns the string passed into the function\n",
        "    group() returns the part of the string where there was a match\n"
      ]
    },
    {
      "cell_type": "code",
      "metadata": {
        "id": "Rx2Bps9NyUz9",
        "colab_type": "code",
        "colab": {},
        "outputId": "7e84dcfc-03cc-4e82-d9d3-cf207ba9b4a8"
      },
      "source": [
        "#Print the position (start- and end-position) of the first match occurrence.\n",
        "#The regular expression looks for any words that starts with an upper case \"V\":\n",
        "import re\n",
        "\n",
        "txt = \"The rain in Vidisha\"\n",
        "x = re.search(r\"\\bV\\w+\", txt)\n",
        "print(x.span())\n"
      ],
      "execution_count": null,
      "outputs": [
        {
          "output_type": "stream",
          "text": [
            "(12, 19)\n"
          ],
          "name": "stdout"
        }
      ]
    },
    {
      "cell_type": "code",
      "metadata": {
        "id": "1kroqpeSyU0B",
        "colab_type": "code",
        "colab": {},
        "outputId": "7b567651-d4b8-4bac-d99e-de776453e7a6"
      },
      "source": [
        "#Print the string passed into the function:\n",
        "import re\n",
        "\n",
        "txt = \"The rain in Bhopal\"\n",
        "x = re.search(r\"\\bB\\w+\", txt)\n",
        "print(x.string)"
      ],
      "execution_count": null,
      "outputs": [
        {
          "output_type": "stream",
          "text": [
            "The rain in Bhopal\n"
          ],
          "name": "stdout"
        }
      ]
    },
    {
      "cell_type": "code",
      "metadata": {
        "id": "MdIlEVnCyU0E",
        "colab_type": "code",
        "colab": {},
        "outputId": "0564d802-ac3d-4aa3-a526-7f511b10f4f2"
      },
      "source": [
        "#Print the part of the string where there was a match.\n",
        "#The regular expression looks for any words that starts with an upper case \"V\":\n",
        "import re\n",
        "\n",
        "txt = \"The rain in Vidisha\"\n",
        "x = re.search(r\"\\bV\\w+\", txt)\n",
        "print(x.group())\n",
        "\n"
      ],
      "execution_count": null,
      "outputs": [
        {
          "output_type": "stream",
          "text": [
            "Vidisha\n"
          ],
          "name": "stdout"
        }
      ]
    },
    {
      "cell_type": "markdown",
      "metadata": {
        "id": "SMtFc8DlyU0V",
        "colab_type": "text"
      },
      "source": [
        "Note: If there is no match, the value None will be returned, instead of the Match Object."
      ]
    },
    {
      "cell_type": "code",
      "metadata": {
        "id": "a-QYx1DEyU0W",
        "colab_type": "code",
        "colab": {}
      },
      "source": [
        ""
      ],
      "execution_count": null,
      "outputs": []
    }
  ]
}