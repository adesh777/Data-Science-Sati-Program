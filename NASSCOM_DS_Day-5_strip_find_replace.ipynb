{
 "cells": [
  {
   "cell_type": "markdown",
   "metadata": {},
   "source": [
    "# Data Science And Analytics FutureSkill Training Program by Dr. Sunil Joshi"
   ]
  },
  {
   "cell_type": "markdown",
   "metadata": {},
   "source": [
    "# Day 5- find and replece    Date:- 19/06/2020"
   ]
  },
  {
   "cell_type": "markdown",
   "metadata": {},
   "source": [
    "# String strip , find and Replace function "
   ]
  },
  {
   "cell_type": "code",
   "execution_count": 2,
   "metadata": {},
   "outputs": [
    {
     "name": "stdout",
     "output_type": "stream",
     "text": [
      "    SATI  for SATIANS    \n",
      "SATI  for SATIANS\n",
      "for SATIAN\n"
     ]
    }
   ],
   "source": [
    "# Python3 program to demonstrate the use of \n",
    "# strip() method   \n",
    "  \n",
    "string = \"\"\"    SATI  for SATIANS    \"\"\" \n",
    "  \n",
    "# prints the string without stripping \n",
    "print(string)  \n",
    "  \n",
    "# prints the string by removing leading and trailing whitespaces \n",
    "print(string.strip())    \n",
    "  \n",
    "# prints the string by removing geeks \n",
    "print(string.strip(' SATI')) \n"
   ]
  },
  {
   "cell_type": "code",
   "execution_count": 6,
   "metadata": {},
   "outputs": [
    {
     "name": "stdout",
     "output_type": "stream",
     "text": [
      "satian  for satians\n",
      "  for \n"
     ]
    }
   ],
   "source": [
    "# Python Program to demonstrate use of strip() method  \n",
    "  \n",
    "str1 = 'satian  for satians'\n",
    "# Print the string without striping. \n",
    "print(str1) \n",
    "  \n",
    "# String whose set of characters are to be \n",
    "# remove from original string at both its ends. \n",
    "str2 = 'atisn'\n",
    "  \n",
    "# Print string after striping str2 from str1 at both its end. \n",
    "print(str1.strip(str2)) \n"
   ]
  },
  {
   "cell_type": "code",
   "execution_count": 7,
   "metadata": {},
   "outputs": [
    {
     "name": "stdout",
     "output_type": "stream",
     "text": [
      "    satian for satians    \n",
      "satian for satians\n"
     ]
    }
   ],
   "source": [
    "# Python Program to demonstrate use of strip() method without any arguement \n",
    "str1 = \"\"\"    satian for satians    \"\"\"\n",
    "  \n",
    "# Print the string without striping. \n",
    "print(str1) \n",
    "  \n",
    "# Print string after removing all leading  \n",
    "# and trailing whitespaces. \n",
    "print(str1.strip())\n"
   ]
  },
  {
   "cell_type": "markdown",
   "metadata": {},
   "source": [
    "# Given a string remove occurrence of word “the” from the beginning and the end."
   ]
  },
  {
   "cell_type": "code",
   "execution_count": 8,
   "metadata": {},
   "outputs": [
    {
     "name": "stdout",
     "output_type": "stream",
     "text": [
      "King has the largest army in the entire world\n"
     ]
    }
   ],
   "source": [
    "# Python3 program to demonstrate the practical application \n",
    "# strip()  \n",
    "  \n",
    "string = \" the King has the largest army in the entire world the\" \n",
    "  \n",
    "# prints the string after removing the from beginning and end \n",
    "print(string.strip(\" the\")) "
   ]
  },
  {
   "cell_type": "code",
   "execution_count": 11,
   "metadata": {},
   "outputs": [
    {
     "name": "stdout",
     "output_type": "stream",
     "text": [
      "of all fruits banana is my favorite\n"
     ]
    }
   ],
   "source": [
    "txt = \"     banana     \"\n",
    "\n",
    "x = txt.strip()\n",
    "\n",
    "print(\"of all fruits\", x, \"is my favorite\")\n"
   ]
  },
  {
   "cell_type": "code",
   "execution_count": 12,
   "metadata": {},
   "outputs": [
    {
     "name": "stdout",
     "output_type": "stream",
     "text": [
      "banana\n"
     ]
    }
   ],
   "source": [
    "txt = \",,,,,rrttgg.....banana....rrr\"\n",
    "\n",
    "x = txt.strip(\",.grt\")\n",
    "\n",
    "print(x)\n"
   ]
  },
  {
   "cell_type": "markdown",
   "metadata": {},
   "source": [
    "# The find() method returns the index of first occurrence of the substring (if found). If not found, it returns -1.\n",
    "The syntax of the find() method is: str.find(sub[, start[, end]] )\n"
   ]
  },
  {
   "cell_type": "markdown",
   "metadata": {},
   "source": [
    "Parameters for the find() method\n",
    "The find() method takes maximum of three parameters:\n",
    "•\tsub - It is the substring to be searched in the str string.\n",
    "•\tstart and end (optional) - The range str[start:end] within which substring is searched.\n"
   ]
  },
  {
   "cell_type": "markdown",
   "metadata": {},
   "source": [
    "Return Value from find() method\n",
    "The find() method returns an integer value:\n",
    "•\tIf the substring exists inside the string, it returns the index of the first occurence of the substring.\n",
    "•\tIf substring doesn't exist inside the string, it returns -1.\n"
   ]
  },
  {
   "cell_type": "markdown",
   "metadata": {},
   "source": [
    "Working of find() method\n",
    "    \n",
    "    \n",
    "\n",
    "Working of Python string's find() and rfind() methods"
   ]
  },
  {
   "cell_type": "markdown",
   "metadata": {},
   "source": [
    "###### Example 1: find() With No start and end Argument"
   ]
  },
  {
   "cell_type": "code",
   "execution_count": 9,
   "metadata": {},
   "outputs": [
    {
     "name": "stdout",
     "output_type": "stream",
     "text": [
      "Substring 'let it': 11\n",
      "Substring 'small ': -1\n",
      "Contains substring 'be,'\n"
     ]
    }
   ],
   "source": [
    "quote = 'Let it be, let it be, let it be'\n",
    "\n",
    "# first occurance of 'let it'(case sensitive)\n",
    "result = quote.find('let it')\n",
    "print(\"Substring 'let it':\", result)\n",
    "\n",
    "# find returns -1 if substring not found\n",
    "result = quote.find('small')\n",
    "print(\"Substring 'small ':\", result)\n",
    "\n",
    "# How to use find()\n",
    "if (quote.find('be,') != -1):\n",
    "    print(\"Contains substring 'be,'\")\n",
    "else:\n",
    "    print(\"Doesn't contain substring\")\n"
   ]
  },
  {
   "cell_type": "markdown",
   "metadata": {},
   "source": [
    "###### Example 2: find() With start and end Arguments"
   ]
  },
  {
   "cell_type": "code",
   "execution_count": 10,
   "metadata": {},
   "outputs": [
    {
     "name": "stdout",
     "output_type": "stream",
     "text": [
      "-1\n",
      "3\n",
      "-1\n",
      "9\n"
     ]
    }
   ],
   "source": [
    "quote = 'Do small things with great love'\n",
    "\n",
    "# Substring is searched in 'hings with great love'\n",
    "print(quote.find('small things', 10))\n",
    "\n",
    "# Substring is searched in ' small things with great love' \n",
    "print(quote.find('small things', 2))\n",
    "\n",
    "# Substring is searched in 'hings with great lov'\n",
    "print(quote.find('o small ', 10, -1))\n",
    "\n",
    "# Substring is searched in 'll things with'\n",
    "print(quote.find('things ', 6, 20))\n"
   ]
  },
  {
   "cell_type": "markdown",
   "metadata": {},
   "source": [
    "Example\n",
    "Where in the text is the word \"welcome\"?:\n"
   ]
  },
  {
   "cell_type": "code",
   "execution_count": 13,
   "metadata": {},
   "outputs": [
    {
     "name": "stdout",
     "output_type": "stream",
     "text": [
      "7\n"
     ]
    }
   ],
   "source": [
    "txt = \"Hello, welcome to my world.\"\n",
    "\n",
    "x = txt.find(\"welcome\")\n",
    "\n",
    "print(x)\n"
   ]
  },
  {
   "cell_type": "code",
   "execution_count": 14,
   "metadata": {},
   "outputs": [
    {
     "name": "stdout",
     "output_type": "stream",
     "text": [
      "1\n"
     ]
    }
   ],
   "source": [
    "# Where in the text is the first occurrence of the letter \"e\"?:\n",
    "txt = \"Hello, welcome to my world.\"\n",
    "\n",
    "x = txt.find(\"e\")\n",
    "\n",
    "print(x)\n"
   ]
  },
  {
   "cell_type": "code",
   "execution_count": 16,
   "metadata": {},
   "outputs": [
    {
     "name": "stdout",
     "output_type": "stream",
     "text": [
      "8\n"
     ]
    }
   ],
   "source": [
    "# Where in the text is the first occurrence of the letter \"e\" when you only search between position 5 and 10?:\n",
    "txt = \"Hello, welcome to my world.\"\n",
    "\n",
    "x = txt.find(\"e\", 5, 10)\n",
    "\n",
    "print(x)\n"
   ]
  },
  {
   "cell_type": "code",
   "execution_count": 17,
   "metadata": {},
   "outputs": [
    {
     "name": "stdout",
     "output_type": "stream",
     "text": [
      "-1\n"
     ]
    },
    {
     "ename": "ValueError",
     "evalue": "substring not found",
     "output_type": "error",
     "traceback": [
      "\u001b[1;31m---------------------------------------------------------------------------\u001b[0m",
      "\u001b[1;31mValueError\u001b[0m                                Traceback (most recent call last)",
      "\u001b[1;32m<ipython-input-17-9b8005e34ca5>\u001b[0m in \u001b[0;36m<module>\u001b[1;34m\u001b[0m\n\u001b[0;32m      3\u001b[0m \u001b[1;33m\u001b[0m\u001b[0m\n\u001b[0;32m      4\u001b[0m \u001b[0mprint\u001b[0m\u001b[1;33m(\u001b[0m\u001b[0mtxt\u001b[0m\u001b[1;33m.\u001b[0m\u001b[0mfind\u001b[0m\u001b[1;33m(\u001b[0m\u001b[1;34m\"q\"\u001b[0m\u001b[1;33m)\u001b[0m\u001b[1;33m)\u001b[0m\u001b[1;33m\u001b[0m\u001b[1;33m\u001b[0m\u001b[0m\n\u001b[1;32m----> 5\u001b[1;33m \u001b[0mprint\u001b[0m\u001b[1;33m(\u001b[0m\u001b[0mtxt\u001b[0m\u001b[1;33m.\u001b[0m\u001b[0mindex\u001b[0m\u001b[1;33m(\u001b[0m\u001b[1;34m\"q\"\u001b[0m\u001b[1;33m)\u001b[0m\u001b[1;33m)\u001b[0m\u001b[1;33m\u001b[0m\u001b[1;33m\u001b[0m\u001b[0m\n\u001b[0m",
      "\u001b[1;31mValueError\u001b[0m: substring not found"
     ]
    }
   ],
   "source": [
    "#If the value is not found, the find() method returns -1, but the index() method will raise an exception:\n",
    "txt = \"Hello, welcome to my world.\"\n",
    "\n",
    "print(txt.find(\"q\"))\n",
    "print(txt.index(\"q\"))\n"
   ]
  },
  {
   "cell_type": "code",
   "execution_count": 19,
   "metadata": {},
   "outputs": [
    {
     "name": "stdout",
     "output_type": "stream",
     "text": [
      "15\n",
      "15\n",
      "-1\n"
     ]
    }
   ],
   "source": [
    "str1 = \"this is string example....wow!!!\";\n",
    "str2 = \"exam\";\n",
    "\n",
    "print(str1.find(str2))\n",
    "print(str1.find(str2, 10))\n",
    "print(str1.find(str2, 40))\n"
   ]
  },
  {
   "cell_type": "markdown",
   "metadata": {},
   "source": [
    "# Python String | replace()\n",
    "replace() is an inbuilt function in Python programming language that returns a copy of the string where all occurrences of a substring is replaced with another substring.\n",
    "Syntax :\n",
    "string.replace(old, new, count)\n",
    "Parameters :\n",
    "\n",
    "\n",
    "\n",
    "old – old substring you want to replace.\n",
    "new – new substring which would replace the old substring.\n",
    "count – the number of times you want to replace the old substring with the new substring. (Optional )\n",
    "Return Value :\n",
    "It returns a copy of the string where all occurrences of a substring is replaced with another substring.\n"
   ]
  },
  {
   "cell_type": "code",
   "execution_count": 20,
   "metadata": {},
   "outputs": [
    {
     "name": "stdout",
     "output_type": "stream",
     "text": [
      "I like bananas\n"
     ]
    }
   ],
   "source": [
    "txt = \"I like mangoes\"\n",
    "x = txt.replace(\"mangoes\", \"bananas\")\n",
    "print(x)\n"
   ]
  },
  {
   "cell_type": "code",
   "execution_count": 21,
   "metadata": {},
   "outputs": [
    {
     "name": "stdout",
     "output_type": "stream",
     "text": [
      "three three was a race horse, two two was three too.\n"
     ]
    }
   ],
   "source": [
    "#Replace all occurrence of the word \"one\":\n",
    "txt = \"one one was a race horse, two two was one too.\"\n",
    "\n",
    "x = txt.replace(\"one\", \"three\")\n",
    "\n",
    "print(x)\n"
   ]
  },
  {
   "cell_type": "code",
   "execution_count": 22,
   "metadata": {},
   "outputs": [
    {
     "name": "stdout",
     "output_type": "stream",
     "text": [
      "three three was a race horse, two two was one too.\n"
     ]
    }
   ],
   "source": [
    "#Replace the two first occurrence of the word \"one\":\n",
    "txt = \"one one was a race horse, two two was one too.\"\n",
    "\n",
    "x = txt.replace(\"one\", \"three\", 2)\n",
    "\n",
    "print(x)\n"
   ]
  },
  {
   "cell_type": "code",
   "execution_count": 23,
   "metadata": {},
   "outputs": [
    {
     "name": "stdout",
     "output_type": "stream",
     "text": [
      "hurt, hurt heart\n",
      "Let it be, don't let it be, don't let it be, let it be\n"
     ]
    }
   ],
   "source": [
    "song = 'cold, cold heart'\n",
    "\n",
    "# replacing 'cold' with 'hurt'\n",
    "print(song.replace('cold', 'hurt'))\n",
    "\n",
    "song = 'Let it be, let it be, let it be, let it be'\n",
    "\n",
    "# replacing only two occurences of 'let'\n",
    "print(song.replace('let', \"don't let\", 2))\n"
   ]
  },
  {
   "cell_type": "code",
   "execution_count": null,
   "metadata": {},
   "outputs": [],
   "source": []
  }
 ],
 "metadata": {
  "kernelspec": {
   "display_name": "Python 3",
   "language": "python",
   "name": "python3"
  },
  "language_info": {
   "codemirror_mode": {
    "name": "ipython",
    "version": 3
   },
   "file_extension": ".py",
   "mimetype": "text/x-python",
   "name": "python",
   "nbconvert_exporter": "python",
   "pygments_lexer": "ipython3",
   "version": "3.7.1"
  }
 },
 "nbformat": 4,
 "nbformat_minor": 2
}
