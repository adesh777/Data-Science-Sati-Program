{
  "nbformat": 4,
  "nbformat_minor": 0,
  "metadata": {
    "kernelspec": {
      "display_name": "Python 3",
      "language": "python",
      "name": "python3"
    },
    "language_info": {
      "codemirror_mode": {
        "name": "ipython",
        "version": 3
      },
      "file_extension": ".py",
      "mimetype": "text/x-python",
      "name": "python",
      "nbconvert_exporter": "python",
      "pygments_lexer": "ipython3",
      "version": "3.7.1"
    },
    "colab": {
      "name": "NASSCOM_DS_Day-5_FileHandling_Example1.ipynb",
      "provenance": []
    }
  },
  "cells": [
    {
      "cell_type": "markdown",
      "metadata": {
        "id": "YDnrXmBdyVIc",
        "colab_type": "text"
      },
      "source": [
        "# Data Science And Analytics FutureSkill Training Program by Dr. Sunil Joshi"
      ]
    },
    {
      "cell_type": "markdown",
      "metadata": {
        "id": "TJqMRfShyVId",
        "colab_type": "text"
      },
      "source": [
        "# Day 5- File handling  Date:- 19/06/2020"
      ]
    },
    {
      "cell_type": "code",
      "metadata": {
        "id": "VhT06u5LyVIf",
        "colab_type": "code",
        "colab": {},
        "outputId": "8f464217-91f7-428a-93f1-6e5c0b7adc9e"
      },
      "source": [
        "pwd()"
      ],
      "execution_count": null,
      "outputs": [
        {
          "output_type": "execute_result",
          "data": {
            "text/plain": [
              "'C:\\\\Users\\\\HP'"
            ]
          },
          "metadata": {
            "tags": []
          },
          "execution_count": 1
        }
      ]
    },
    {
      "cell_type": "code",
      "metadata": {
        "id": "EY_OQR-6yVIq",
        "colab_type": "code",
        "colab": {},
        "outputId": "b131e6bc-772a-4c1a-d611-26020cb54366"
      },
      "source": [
        "f=open('satifile.txt','r')\n",
        "print(f.read())"
      ],
      "execution_count": null,
      "outputs": [
        {
          "output_type": "stream",
          "text": [
            "Hello! Welcome to Data Science and Analytics Course\n",
            "This file is for testing purposes.\t\n",
            "Good Luck!\n"
          ],
          "name": "stdout"
        }
      ]
    },
    {
      "cell_type": "code",
      "metadata": {
        "id": "RQc5nlXiyVIw",
        "colab_type": "code",
        "colab": {},
        "outputId": "a9f839e0-dbdd-4434-a695-9e8945968d0f"
      },
      "source": [
        "f=open('C:\\Python_Program\\satifile.txt','r')\n",
        "print(f.read())"
      ],
      "execution_count": null,
      "outputs": [
        {
          "output_type": "stream",
          "text": [
            "Hello! Welcome to Data Science and Analytics Course\n",
            "This file is for testing purposes.\t\n",
            "Good Luck!\n"
          ],
          "name": "stdout"
        }
      ]
    },
    {
      "cell_type": "markdown",
      "metadata": {
        "id": "hPBHxiWKyVI1",
        "colab_type": "text"
      },
      "source": [
        "# Read Only Parts of the File\n",
        "By default the read() method returns the whole text, but you can also specify how many characters you want to return:"
      ]
    },
    {
      "cell_type": "code",
      "metadata": {
        "id": "t14oxVbEyVI2",
        "colab_type": "code",
        "colab": {},
        "outputId": "a36f374e-324a-46b1-86c0-de464740fd2d"
      },
      "source": [
        "f=open('C:\\Python_Program\\satifile.txt','r')\n",
        "print(f.read(5))"
      ],
      "execution_count": null,
      "outputs": [
        {
          "output_type": "stream",
          "text": [
            "Hello\n"
          ],
          "name": "stdout"
        }
      ]
    },
    {
      "cell_type": "markdown",
      "metadata": {
        "id": "kSSQscedyVI8",
        "colab_type": "text"
      },
      "source": [
        "# Read Lines\n",
        "You can return one line by using the readline() method:\n"
      ]
    },
    {
      "cell_type": "markdown",
      "metadata": {
        "id": "ao2hig0LyVI9",
        "colab_type": "text"
      },
      "source": [
        "Read one line of the file:"
      ]
    },
    {
      "cell_type": "code",
      "metadata": {
        "id": "I_5XquhIyVI-",
        "colab_type": "code",
        "colab": {},
        "outputId": "fc51c3d5-93a2-4d85-d28f-cf2818132c29"
      },
      "source": [
        "f=open('C:\\Python_Program\\satifile.txt','r')\n",
        "print(f.readline())\n"
      ],
      "execution_count": null,
      "outputs": [
        {
          "output_type": "stream",
          "text": [
            "Hello! Welcome to Data Science and Analytics Course\n",
            "\n"
          ],
          "name": "stdout"
        }
      ]
    },
    {
      "cell_type": "code",
      "metadata": {
        "id": "UmnYJwVwyVJG",
        "colab_type": "code",
        "colab": {},
        "outputId": "9407edcc-e704-454a-aeed-c57440cec001"
      },
      "source": [
        "f=open('C:\\Python_Program\\satifile.txt','r')\n",
        "print(f.readline())\n",
        "print(f.readline())\n"
      ],
      "execution_count": null,
      "outputs": [
        {
          "output_type": "stream",
          "text": [
            "Hello! Welcome to Data Science and Analytics Course\n",
            "\n",
            "This file is for testing purposes.\t\n",
            "\n"
          ],
          "name": "stdout"
        }
      ]
    },
    {
      "cell_type": "code",
      "metadata": {
        "id": "V79D5GhtyVJM",
        "colab_type": "code",
        "colab": {},
        "outputId": "801e27d4-da42-48e7-dc3b-98991e5f9e32"
      },
      "source": [
        "f=open('C:\\Python_Program\\satifile.txt','r')\n",
        "for x in f:\n",
        "  print(x)\n"
      ],
      "execution_count": null,
      "outputs": [
        {
          "output_type": "stream",
          "text": [
            "Hello! Welcome to Data Science and Analytics Course\n",
            "\n",
            "This file is for testing purposes.\t\n",
            "\n",
            "Good Luck!\n"
          ],
          "name": "stdout"
        }
      ]
    },
    {
      "cell_type": "markdown",
      "metadata": {
        "id": "53jQ8p57yVJT",
        "colab_type": "text"
      },
      "source": [
        "# Close Files\n",
        "It is a good practice to always close the file when you are done with it.\n"
      ]
    },
    {
      "cell_type": "code",
      "metadata": {
        "id": "KspXi0zlyVJU",
        "colab_type": "code",
        "colab": {},
        "outputId": "8736b928-ddbd-4a06-8714-544c267ffb06"
      },
      "source": [
        "f=open('C:\\Python_Program\\satifile.txt','r')\n",
        "print(f.readline())\n",
        "f.close()\n"
      ],
      "execution_count": null,
      "outputs": [
        {
          "output_type": "stream",
          "text": [
            "Hello! Welcome to Data Science and Analytics Course\n",
            "\n"
          ],
          "name": "stdout"
        }
      ]
    },
    {
      "cell_type": "markdown",
      "metadata": {
        "id": "1x259F4PyVJa",
        "colab_type": "text"
      },
      "source": [
        "Note: You should always close your files, in some cases, due to buffering, changes made to a file may not show until you close the file."
      ]
    },
    {
      "cell_type": "markdown",
      "metadata": {
        "id": "RiHppDpZyVJb",
        "colab_type": "text"
      },
      "source": [
        "# Open the file “satifile.txt\" and append content to the file:"
      ]
    },
    {
      "cell_type": "code",
      "metadata": {
        "id": "3ECM9ZhlyVJc",
        "colab_type": "code",
        "colab": {}
      },
      "source": [
        "f = open('C:\\Python_Program\\satifile.txt', \"a\")\n",
        "f.write(\"Now the file has more content!\")\n",
        "f.close()"
      ],
      "execution_count": null,
      "outputs": []
    },
    {
      "cell_type": "markdown",
      "metadata": {
        "id": "993xqqi8yVJj",
        "colab_type": "text"
      },
      "source": [
        "#open and read the file after the appending:\n"
      ]
    },
    {
      "cell_type": "code",
      "metadata": {
        "id": "m8r1s0vJyVJk",
        "colab_type": "code",
        "colab": {},
        "outputId": "dd8a69f2-b611-40b4-fe47-37325faae02c"
      },
      "source": [
        "f = open('C:\\Python_Program\\satifile.txt', \"r\")\n",
        "print(f.read())"
      ],
      "execution_count": null,
      "outputs": [
        {
          "output_type": "stream",
          "text": [
            "Hello! Welcome to Data Science and Analytics Course\n",
            "This file is for testing purposes.\t\n",
            "Good Luck!Now the file has more content!\n"
          ],
          "name": "stdout"
        }
      ]
    },
    {
      "cell_type": "markdown",
      "metadata": {
        "id": "JPvpn7U8yVJs",
        "colab_type": "text"
      },
      "source": [
        "Open the file \"satifile.txt\" and overwrite the content:"
      ]
    },
    {
      "cell_type": "code",
      "metadata": {
        "id": "rY-ERhvOyVKA",
        "colab_type": "code",
        "colab": {}
      },
      "source": [
        "f = open('C:\\Python_Program\\satifile.txt', \"w\")\n",
        "f.write(\"Woops! I have deleted the content!\")\n",
        "f.close()"
      ],
      "execution_count": null,
      "outputs": []
    },
    {
      "cell_type": "code",
      "metadata": {
        "id": "F4s46LzvyVKM",
        "colab_type": "code",
        "colab": {},
        "outputId": "e24098b3-e41e-4dc9-ea67-e435f8503d5b"
      },
      "source": [
        "#open and read the file after the appending:\n",
        "f = open('C:\\Python_Program\\satifile.txt', \"r\")\n",
        "print(f.read())"
      ],
      "execution_count": null,
      "outputs": [
        {
          "output_type": "stream",
          "text": [
            "Woops! I have deleted the content!\n"
          ],
          "name": "stdout"
        }
      ]
    },
    {
      "cell_type": "code",
      "metadata": {
        "id": "cfTqRAQxyVKR",
        "colab_type": "code",
        "colab": {}
      },
      "source": [
        "import os\n",
        "os.remove('satifile.txt')\n"
      ],
      "execution_count": null,
      "outputs": []
    },
    {
      "cell_type": "code",
      "metadata": {
        "id": "6ckEQkvryVL3",
        "colab_type": "code",
        "colab": {},
        "outputId": "3e55a795-bd92-498c-8695-bb850364ee1f"
      },
      "source": [
        "f=open('satifile.txt','r')\n",
        "print(f.read())"
      ],
      "execution_count": null,
      "outputs": [
        {
          "output_type": "error",
          "ename": "FileNotFoundError",
          "evalue": "[Errno 2] No such file or directory: 'satifile.txt'",
          "traceback": [
            "\u001b[1;31m---------------------------------------------------------------------------\u001b[0m",
            "\u001b[1;31mFileNotFoundError\u001b[0m                         Traceback (most recent call last)",
            "\u001b[1;32m<ipython-input-20-2d326bbd7f99>\u001b[0m in \u001b[0;36m<module>\u001b[1;34m\u001b[0m\n\u001b[1;32m----> 1\u001b[1;33m \u001b[0mf\u001b[0m\u001b[1;33m=\u001b[0m\u001b[0mopen\u001b[0m\u001b[1;33m(\u001b[0m\u001b[1;34m'satifile.txt'\u001b[0m\u001b[1;33m,\u001b[0m\u001b[1;34m'r'\u001b[0m\u001b[1;33m)\u001b[0m\u001b[1;33m\u001b[0m\u001b[1;33m\u001b[0m\u001b[0m\n\u001b[0m\u001b[0;32m      2\u001b[0m \u001b[0mprint\u001b[0m\u001b[1;33m(\u001b[0m\u001b[0mf\u001b[0m\u001b[1;33m.\u001b[0m\u001b[0mread\u001b[0m\u001b[1;33m(\u001b[0m\u001b[1;33m)\u001b[0m\u001b[1;33m)\u001b[0m\u001b[1;33m\u001b[0m\u001b[1;33m\u001b[0m\u001b[0m\n",
            "\u001b[1;31mFileNotFoundError\u001b[0m: [Errno 2] No such file or directory: 'satifile.txt'"
          ]
        }
      ]
    },
    {
      "cell_type": "code",
      "metadata": {
        "id": "RJyCaGsYyVMy",
        "colab_type": "code",
        "colab": {},
        "outputId": "aafce50d-a399-4963-afbe-064c910fc0e9"
      },
      "source": [
        "import os\n",
        "if os.path.exists('satifile.txt'):\n",
        "    os.remove('satifile.txt')\n",
        "else:\n",
        "    print('The file does not exist')"
      ],
      "execution_count": null,
      "outputs": [
        {
          "output_type": "stream",
          "text": [
            "The file does not exist\n"
          ],
          "name": "stdout"
        }
      ]
    },
    {
      "cell_type": "code",
      "metadata": {
        "id": "xYNo1jpgyVM6",
        "colab_type": "code",
        "colab": {}
      },
      "source": [
        ""
      ],
      "execution_count": null,
      "outputs": []
    }
  ]
}